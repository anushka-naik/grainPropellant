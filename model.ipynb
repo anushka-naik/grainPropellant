{
 "cells": [
  {
   "cell_type": "code",
   "execution_count": 43,
   "metadata": {},
   "outputs": [
    {
     "name": "stdout",
     "output_type": "stream",
     "text": [
      "[[ 2.00000000e+00  2.00000000e+00  1.00000000e+00 ...  4.00000000e+00\n",
      "   4.71238898e+00  7.85398163e+00]\n",
      " [ 2.00000000e+00  2.00000000e+00  1.00000000e+00 ...  1.00000000e+00\n",
      "   4.71238898e+00  7.85398163e+00]\n",
      " [ 2.00000000e+00  2.00000000e+00  1.00000000e+00 ...  4.00000000e+00\n",
      "   4.71238898e+00  7.85398163e+00]\n",
      " ...\n",
      " [ 5.20000000e+01  6.00000000e+00  6.00000000e+00 ...  4.00000000e+00\n",
      "  -2.94053072e+04  3.23458380e+04]\n",
      " [ 5.20000000e+01  6.00000000e+00  6.00000000e+00 ...  1.00000000e+00\n",
      "  -2.94053072e+04  3.23458380e+04]\n",
      " [ 5.20000000e+01  6.00000000e+00  6.00000000e+00 ...  4.00000000e+00\n",
      "  -2.94053072e+04  3.23458380e+04]]\n"
     ]
    }
   ],
   "source": [
    "# Importing necessary libraries\n",
    "import pandas as pd\n",
    "import numpy as np\n",
    "from sklearn.model_selection import train_test_split\n",
    "from tensorflow.keras.models import Sequential\n",
    "from tensorflow.keras.layers import LSTM, Dense\n",
    "\n",
    "# 1. Data Preparation\n",
    "\n",
    "# Loading the dataset\n",
    "df = pd.read_csv('dataset.csv')\n",
    "df = df[df['BurnRate'].str.len() > 2] #ignoring all BurnRates with empty lists\n",
    "\n",
    "# Converting the BurnRate string representation of lists into actual lists\n",
    "df['BurnRate'] = df['BurnRate'].apply(lambda x: [float(i) for i in x.strip('[]').split(',')])\n",
    "\n",
    "\n",
    "# Ensure all lists have the same length, if not, pad with zeros (or other appropriate value)\n",
    "max_length = df['BurnRate'].apply(len).max()\n",
    "df['BurnRate'] = df['BurnRate'].apply(lambda x: x + [0] * (max_length - len(x)))\n",
    "\n",
    "# Splitting the dataset into training and test sets\n",
    "X = df.drop(columns='BurnRate').values\n",
    "Y = np.stack(df['BurnRate'].values)\n",
    "\n",
    "X_train, X_test, Y_train, Y_test = train_test_split(X, Y, test_size=0.2, random_state=42)\n",
    "print(X)\n",
    "# 2. Model Building\n",
    "\n",
    "model = Sequential()\n",
    "\n",
    "# Add LSTM layer - you can adjust the number of units and return_sequences parameter as needed\n",
    "model.add(LSTM(50, input_shape=(X_train.shape[1], 1), return_sequences=True))\n",
    "model.add(LSTM(50))\n",
    "model.add(Dense(max_length))\n",
    "\n",
    "model.compile(optimizer='adam', loss='mean_squared_error')\n",
    "\n",
    "# 3. Training & Evaluation\n",
    "\n",
    "# Reshaping X data to fit LSTM 3D input (samples, timesteps, features)\n",
    "X_train_reshaped = X_train.reshape(X_train.shape[0], X_train.shape[1], 1)\n",
    "X_test_reshaped = X_test.reshape(X_test.shape[0], X_test.shape[1], 1)"
   ]
  },
  {
   "cell_type": "code",
   "execution_count": 44,
   "metadata": {},
   "outputs": [
    {
     "name": "stdout",
     "output_type": "stream",
     "text": [
      "Epoch 1/50\n"
     ]
    },
    {
     "name": "stderr",
     "output_type": "stream",
     "text": [
      "2023-08-16 00:53:58.139717: I tensorflow/core/grappler/optimizers/custom_graph_optimizer_registry.cc:114] Plugin optimizer for device_type GPU is enabled.\n",
      "2023-08-16 00:53:58.441731: I tensorflow/core/grappler/optimizers/custom_graph_optimizer_registry.cc:114] Plugin optimizer for device_type GPU is enabled.\n",
      "2023-08-16 00:53:58.555576: I tensorflow/core/grappler/optimizers/custom_graph_optimizer_registry.cc:114] Plugin optimizer for device_type GPU is enabled.\n",
      "2023-08-16 00:53:58.649281: I tensorflow/core/grappler/optimizers/custom_graph_optimizer_registry.cc:114] Plugin optimizer for device_type GPU is enabled.\n",
      "2023-08-16 00:53:58.793544: I tensorflow/core/grappler/optimizers/custom_graph_optimizer_registry.cc:114] Plugin optimizer for device_type GPU is enabled.\n"
     ]
    },
    {
     "name": "stdout",
     "output_type": "stream",
     "text": [
      "17/17 [==============================] - ETA: 0s - loss: 2.3486"
     ]
    },
    {
     "name": "stderr",
     "output_type": "stream",
     "text": [
      "2023-08-16 00:53:59.662845: I tensorflow/core/grappler/optimizers/custom_graph_optimizer_registry.cc:114] Plugin optimizer for device_type GPU is enabled.\n",
      "2023-08-16 00:53:59.770492: I tensorflow/core/grappler/optimizers/custom_graph_optimizer_registry.cc:114] Plugin optimizer for device_type GPU is enabled.\n",
      "2023-08-16 00:53:59.819016: I tensorflow/core/grappler/optimizers/custom_graph_optimizer_registry.cc:114] Plugin optimizer for device_type GPU is enabled.\n"
     ]
    },
    {
     "name": "stdout",
     "output_type": "stream",
     "text": [
      "17/17 [==============================] - 3s 67ms/step - loss: 2.3486 - val_loss: 1.6005\n",
      "Epoch 2/50\n",
      "17/17 [==============================] - 0s 22ms/step - loss: 1.9610 - val_loss: 1.5944\n",
      "Epoch 3/50\n",
      "17/17 [==============================] - 0s 21ms/step - loss: 1.9415 - val_loss: 1.5863\n",
      "Epoch 4/50\n",
      "17/17 [==============================] - 0s 21ms/step - loss: 1.9223 - val_loss: 1.5923\n",
      "Epoch 5/50\n",
      "17/17 [==============================] - 0s 21ms/step - loss: 1.9288 - val_loss: 1.5832\n",
      "Epoch 6/50\n",
      "17/17 [==============================] - 0s 21ms/step - loss: 1.8910 - val_loss: 1.5909\n",
      "Epoch 7/50\n",
      "17/17 [==============================] - 0s 21ms/step - loss: 1.8788 - val_loss: 1.5731\n",
      "Epoch 8/50\n",
      "17/17 [==============================] - 0s 21ms/step - loss: 1.9113 - val_loss: 1.6699\n",
      "Epoch 9/50\n",
      "17/17 [==============================] - 0s 24ms/step - loss: 1.8844 - val_loss: 1.5637\n",
      "Epoch 10/50\n",
      "17/17 [==============================] - 0s 23ms/step - loss: 1.8542 - val_loss: 1.5770\n",
      "Epoch 11/50\n",
      "17/17 [==============================] - 0s 23ms/step - loss: 1.8516 - val_loss: 1.5619\n",
      "Epoch 12/50\n",
      "17/17 [==============================] - 0s 23ms/step - loss: 1.8535 - val_loss: 1.5534\n",
      "Epoch 13/50\n",
      "17/17 [==============================] - 0s 23ms/step - loss: 1.8231 - val_loss: 1.5789\n",
      "Epoch 14/50\n",
      "17/17 [==============================] - 0s 22ms/step - loss: 1.8448 - val_loss: 1.5522\n",
      "Epoch 15/50\n",
      "17/17 [==============================] - 0s 23ms/step - loss: 1.8494 - val_loss: 1.5389\n",
      "Epoch 16/50\n",
      "17/17 [==============================] - 0s 23ms/step - loss: 1.8092 - val_loss: 1.5598\n",
      "Epoch 17/50\n",
      "17/17 [==============================] - 0s 22ms/step - loss: 1.7916 - val_loss: 1.6655\n",
      "Epoch 18/50\n",
      "17/17 [==============================] - 0s 22ms/step - loss: 1.7522 - val_loss: 1.5639\n",
      "Epoch 19/50\n",
      "17/17 [==============================] - 0s 23ms/step - loss: 1.7658 - val_loss: 1.5837\n",
      "Epoch 20/50\n",
      "17/17 [==============================] - 0s 23ms/step - loss: 1.7167 - val_loss: 1.6677\n",
      "Epoch 21/50\n",
      "17/17 [==============================] - 0s 22ms/step - loss: 1.7340 - val_loss: 1.6172\n",
      "Epoch 22/50\n",
      "17/17 [==============================] - 0s 22ms/step - loss: 1.6849 - val_loss: 1.5303\n",
      "Epoch 23/50\n",
      "17/17 [==============================] - 0s 22ms/step - loss: 1.6198 - val_loss: 1.4637\n",
      "Epoch 24/50\n",
      "17/17 [==============================] - 0s 22ms/step - loss: 1.6037 - val_loss: 1.3658\n",
      "Epoch 25/50\n",
      "17/17 [==============================] - 0s 23ms/step - loss: 1.5084 - val_loss: 1.3562\n",
      "Epoch 26/50\n",
      "17/17 [==============================] - 0s 23ms/step - loss: 1.4671 - val_loss: 1.3116\n",
      "Epoch 27/50\n",
      "17/17 [==============================] - 0s 22ms/step - loss: 1.3229 - val_loss: 1.2146\n",
      "Epoch 28/50\n",
      "17/17 [==============================] - 0s 22ms/step - loss: 1.1671 - val_loss: 0.9709\n",
      "Epoch 29/50\n",
      "17/17 [==============================] - 1s 32ms/step - loss: 0.9714 - val_loss: 0.7902\n",
      "Epoch 30/50\n",
      "17/17 [==============================] - 0s 25ms/step - loss: 0.8929 - val_loss: 0.6377\n",
      "Epoch 31/50\n",
      "17/17 [==============================] - 0s 21ms/step - loss: 0.5481 - val_loss: 0.4322\n",
      "Epoch 32/50\n",
      "17/17 [==============================] - 0s 22ms/step - loss: 0.4414 - val_loss: 0.3399\n",
      "Epoch 33/50\n",
      "17/17 [==============================] - 1s 31ms/step - loss: 0.3295 - val_loss: 0.3904\n",
      "Epoch 34/50\n",
      "17/17 [==============================] - 0s 22ms/step - loss: 0.5203 - val_loss: 0.2935\n",
      "Epoch 35/50\n",
      "17/17 [==============================] - 0s 23ms/step - loss: 0.2678 - val_loss: 0.1960\n",
      "Epoch 36/50\n",
      "17/17 [==============================] - 0s 21ms/step - loss: 0.2127 - val_loss: 0.2179\n",
      "Epoch 37/50\n",
      "17/17 [==============================] - 0s 23ms/step - loss: 0.1725 - val_loss: 0.1625\n",
      "Epoch 38/50\n",
      "17/17 [==============================] - 0s 23ms/step - loss: 0.1842 - val_loss: 0.1515\n",
      "Epoch 39/50\n",
      "17/17 [==============================] - 0s 21ms/step - loss: 0.1596 - val_loss: 0.1353\n",
      "Epoch 40/50\n",
      "17/17 [==============================] - 0s 21ms/step - loss: 0.1862 - val_loss: 0.2237\n",
      "Epoch 41/50\n",
      "17/17 [==============================] - 0s 22ms/step - loss: 0.1850 - val_loss: 0.1207\n",
      "Epoch 42/50\n",
      "17/17 [==============================] - 0s 25ms/step - loss: 0.1411 - val_loss: 0.1143\n",
      "Epoch 43/50\n",
      "17/17 [==============================] - 0s 21ms/step - loss: 0.1486 - val_loss: 0.1566\n",
      "Epoch 44/50\n",
      "17/17 [==============================] - 0s 21ms/step - loss: 0.1202 - val_loss: 0.1036\n",
      "Epoch 45/50\n",
      "17/17 [==============================] - 0s 21ms/step - loss: 0.1079 - val_loss: 0.1520\n",
      "Epoch 46/50\n",
      "17/17 [==============================] - 0s 21ms/step - loss: 0.1288 - val_loss: 0.0972\n",
      "Epoch 47/50\n",
      "17/17 [==============================] - 0s 22ms/step - loss: 0.1028 - val_loss: 0.1209\n",
      "Epoch 48/50\n",
      "17/17 [==============================] - 0s 22ms/step - loss: 0.0963 - val_loss: 0.0971\n",
      "Epoch 49/50\n",
      "17/17 [==============================] - 0s 21ms/step - loss: 0.1015 - val_loss: 0.1020\n",
      "Epoch 50/50\n",
      "17/17 [==============================] - 0s 22ms/step - loss: 0.1307 - val_loss: 0.1469\n"
     ]
    },
    {
     "name": "stderr",
     "output_type": "stream",
     "text": [
      "2023-08-16 00:54:18.954181: I tensorflow/core/grappler/optimizers/custom_graph_optimizer_registry.cc:114] Plugin optimizer for device_type GPU is enabled.\n",
      "2023-08-16 00:54:19.052149: I tensorflow/core/grappler/optimizers/custom_graph_optimizer_registry.cc:114] Plugin optimizer for device_type GPU is enabled.\n",
      "2023-08-16 00:54:19.101479: I tensorflow/core/grappler/optimizers/custom_graph_optimizer_registry.cc:114] Plugin optimizer for device_type GPU is enabled.\n"
     ]
    },
    {
     "name": "stdout",
     "output_type": "stream",
     "text": [
      "5/5 [==============================] - 1s 16ms/step\n"
     ]
    }
   ],
   "source": [
    "model.fit(X_train_reshaped, Y_train, epochs=50, batch_size=32, validation_data=(X_test_reshaped, Y_test))\n",
    "\n",
    "# Prediction\n",
    "predictions = model.predict(X_test_reshaped)"
   ]
  }
 ],
 "metadata": {
  "kernelspec": {
   "display_name": "tf",
   "language": "python",
   "name": "python3"
  },
  "language_info": {
   "codemirror_mode": {
    "name": "ipython",
    "version": 3
   },
   "file_extension": ".py",
   "mimetype": "text/x-python",
   "name": "python",
   "nbconvert_exporter": "python",
   "pygments_lexer": "ipython3",
   "version": "3.11.4"
  },
  "orig_nbformat": 4
 },
 "nbformat": 4,
 "nbformat_minor": 2
}
